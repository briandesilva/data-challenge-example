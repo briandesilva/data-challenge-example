{
 "cells": [
  {
   "cell_type": "markdown",
   "metadata": {},
   "source": [
    "# Example submissions\n",
    "\n",
    "This notebook demonstrates how to\n",
    "* read in training data\n",
    "* write h5 files for challenge submissions\n",
    "\n",
    "We'll consider data from two challenges to show how this works for different numbers of conditions."
   ]
  },
  {
   "cell_type": "markdown",
   "metadata": {},
   "source": [
    "## Requirements\n",
    "You'll need the package h5py to read and write files from our website. You can install it via\n",
    "\n",
    "```pip install h5py```\n",
    "\n",
    "In this notebook we'll also use numpy and matplotlib, but they aren't strictly necessary."
   ]
  },
  {
   "cell_type": "code",
   "execution_count": 1,
   "metadata": {
    "ExecuteTime": {
     "end_time": "2020-07-06T17:31:51.295397Z",
     "start_time": "2020-07-06T17:31:50.903927Z"
    }
   },
   "outputs": [],
   "source": [
    "import matplotlib.pyplot as plt\n",
    "import numpy as np\n",
    "\n",
    "import h5py"
   ]
  },
  {
   "cell_type": "markdown",
   "metadata": {},
   "source": [
    "## Linear"
   ]
  },
  {
   "cell_type": "markdown",
   "metadata": {},
   "source": [
    "### Reading in the challenge data\n",
    "\n",
    "The training data for this challenge has the following schema:\n",
    "* Evaluation initial condition - group\n",
    "  * x - dataset, shape (3,)\n",
    "* Trajectories - group\n",
    "  * x1 - dataset, shape (100, 3)"
   ]
  },
  {
   "cell_type": "code",
   "execution_count": 7,
   "metadata": {
    "ExecuteTime": {
     "end_time": "2020-07-06T17:36:19.320355Z",
     "start_time": "2020-07-06T17:36:18.783642Z"
    }
   },
   "outputs": [
    {
     "data": {
      "image/png": "[encoded data removed]",
      "text/plain": [
       "<Figure size 432x288 with 1 Axes>"
      ]
     },
     "metadata": {
      "needs_background": "light"
     },
     "output_type": "display_data"
    }
   ],
   "source": [
    "data_file = h5py.File('datasets/synthetic/linear_simple/data.h5', 'r')\n",
    "\n",
    "x_data = np.array(data_file['Trajectories']['x1'])\n",
    "x0_eval = np.array(data_file['Evaluation initial condition']['x'])\n",
    "data_file.close()\n",
    "\n",
    "t = np.linspace(0, 5, x_data.shape[0])\n",
    "plt.plot(t, x_data[:, 0], label='$x_1$')\n",
    "plt.plot(t, x_data[:, 1], label='$x_2$')\n",
    "plt.plot(t, x_data[:, 2], label='$x_3$')\n",
    "plt.xlabel('t')\n",
    "plt.title('Training data x1')\n",
    "plt.legend()\n",
    "plt.show()"
   ]
  },
  {
   "cell_type": "markdown",
   "metadata": {},
   "source": [
    "### Creating a submission\n",
    "According to the challenge description, the submssion should consist of an hdf5 file with the following structure:\n",
    "* x - dataset, shape (100, 3)\n",
    "\n",
    "Let's see how to create such a file."
   ]
  },
  {
   "cell_type": "code",
   "execution_count": 8,
   "metadata": {
    "ExecuteTime": {
     "end_time": "2020-07-06T17:40:18.477822Z",
     "start_time": "2020-07-06T17:40:18.468844Z"
    }
   },
   "outputs": [],
   "source": [
    "x_submission = np.random.randn(100, 3)\n",
    "\n",
    "submission_file = h5py.File('dummy_submission.h5', 'w')\n",
    "submission_file.create_dataset('x', data=x_submission)\n",
    "submission_file.close()"
   ]
  },
  {
   "cell_type": "markdown",
   "metadata": {},
   "source": [
    "## Linear with noise"
   ]
  },
  {
   "cell_type": "markdown",
   "metadata": {},
   "source": [
    "### Reading in the challenge data and generating a submission\n",
    "The training data for this challenge is more complicated than in the previous example. It has the schema\n",
    "* Condition 1 - group\n",
    "    * Evaluation initial condition - group\n",
    "        * x - dataset, shape(3,)\n",
    "    * Trajectories - group\n",
    "        * x1 - dataset, shape (100, 3)\n",
    "        * x2 - dataset, shape (100, 3)\n",
    "        * x3 - dataset, shape (100, 3)\n",
    "        * x4 - dataset, shape (100, 3)\n",
    "        * x5 - dataset, shape (100, 3)\n",
    "* Condition 2 - group\n",
    "    * Evaluation initial condition - group\n",
    "        * x - dataset, shape(3,)\n",
    "    * Trajectories - group\n",
    "        * x1 - dataset, shape (100, 3)\n",
    "        * x2 - dataset, shape (100, 3)\n",
    "        * x3 - dataset, shape (100, 3)\n",
    "        * x4 - dataset, shape (100, 3)\n",
    "        * x5 - dataset, shape (100, 3)\n",
    "* Condition 3 - group\n",
    "    * Evaluation initial condition - group\n",
    "        * x - dataset, shape(3,)\n",
    "    * Trajectories - group\n",
    "        * x1 - dataset, shape (100, 3)\n",
    "        * x2 - dataset, shape (100, 3)\n",
    "        * x3 - dataset, shape (100, 3)\n",
    "        * x4 - dataset, shape (100, 3)\n",
    "        * x5 - dataset, shape (100, 3)\n",
    "\n",
    "The three conditions are meant to be treated separately, so we will first create an empty submission file, then update it as we loop over the three conditions. Alternatively, we could collect the training data for the three conditions before generating any submssion results.\n",
    "\n",
    "The submission file is expected to have the form\n",
    "* Condition 1 - group\n",
    "    * x - dataset, shape (100, 3)\n",
    "* Condition 2 - group\n",
    "    * x - dataset, shape (100, 3)\n",
    "* Condition 3 - group\n",
    "    * x - dataset, shape (100, 3)"
   ]
  },
  {
   "cell_type": "code",
   "execution_count": 9,
   "metadata": {
    "ExecuteTime": {
     "end_time": "2020-07-06T17:53:01.918695Z",
     "start_time": "2020-07-06T17:53:01.912461Z"
    }
   },
   "outputs": [],
   "source": [
    "submission_file = h5py.File('dummy_submission.h5', 'w')\n",
    "data_file = h5py.File('datasets/synthetic/linear_noise/data.h5', 'r')"
   ]
  },
  {
   "cell_type": "markdown",
   "metadata": {},
   "source": [
    "Note that you can view the structure of an h5 file with the `visit` function."
   ]
  },
  {
   "cell_type": "code",
   "execution_count": 10,
   "metadata": {
    "ExecuteTime": {
     "end_time": "2020-07-06T17:53:35.800555Z",
     "start_time": "2020-07-06T17:53:35.791270Z"
    }
   },
   "outputs": [
    {
     "name": "stdout",
     "output_type": "stream",
     "text": [
      "Condition 1\n",
      "Condition 1/Evaluation initial condition\n",
      "Condition 1/Evaluation initial condition/x\n",
      "Condition 1/Trajectories\n",
      "Condition 1/Trajectories/x1\n",
      "Condition 1/Trajectories/x2\n",
      "Condition 1/Trajectories/x3\n",
      "Condition 1/Trajectories/x4\n",
      "Condition 1/Trajectories/x5\n",
      "Condition 2\n",
      "Condition 2/Evaluation initial condition\n",
      "Condition 2/Evaluation initial condition/x\n",
      "Condition 2/Trajectories\n",
      "Condition 2/Trajectories/x1\n",
      "Condition 2/Trajectories/x2\n",
      "Condition 2/Trajectories/x3\n",
      "Condition 2/Trajectories/x4\n",
      "Condition 2/Trajectories/x5\n",
      "Condition 3\n",
      "Condition 3/Evaluation initial condition\n",
      "Condition 3/Evaluation initial condition/x\n",
      "Condition 3/Trajectories\n",
      "Condition 3/Trajectories/x1\n",
      "Condition 3/Trajectories/x2\n",
      "Condition 3/Trajectories/x3\n",
      "Condition 3/Trajectories/x4\n",
      "Condition 3/Trajectories/x5\n"
     ]
    }
   ],
   "source": [
    "data_file.visit(print)"
   ]
  },
  {
   "cell_type": "code",
   "execution_count": 11,
   "metadata": {
    "ExecuteTime": {
     "end_time": "2020-07-06T17:58:24.509974Z",
     "start_time": "2020-07-06T17:58:24.468877Z"
    }
   },
   "outputs": [],
   "source": [
    "for cond in [1, 2, 3]:\n",
    "    # Read in training data for all five trajectories\n",
    "    x_data = [\n",
    "        np.array(traj) for traj in data_file[f'Condition {cond}']['Trajectories'].values()\n",
    "    ]\n",
    "    \n",
    "    # Read in initial condition\n",
    "    x0_eval = np.array(data_file[f'Condition {cond}']['Evaluation initial condition']['x'])\n",
    "    \n",
    "    # Generate a submission\n",
    "    x_submission = np.random.randn(100, 3)\n",
    "    \n",
    "    # Add result to submission file\n",
    "    group = submission_file.create_group(f'Condition {cond}')\n",
    "    group.create_dataset('x', data=x_submission)\n",
    "\n",
    "data_file.close()\n",
    "submission_file.close()"
   ]
  }
 ],
 "metadata": {
  "kernelspec": {
   "display_name": "Python 3",
   "language": "python",
   "name": "python3"
  },
  "language_info": {
   "codemirror_mode": {
    "name": "ipython",
    "version": 3
   },
   "file_extension": ".py",
   "mimetype": "text/x-python",
   "name": "python",
   "nbconvert_exporter": "python",
   "pygments_lexer": "ipython3",
   "version": "3.6.9"
  },
  "toc": {
   "base_numbering": 1,
   "nav_menu": {},
   "number_sections": true,
   "sideBar": true,
   "skip_h1_title": false,
   "title_cell": "Table of Contents",
   "title_sidebar": "Contents",
   "toc_cell": false,
   "toc_position": {},
   "toc_section_display": true,
   "toc_window_display": false
  },
  "varInspector": {
   "cols": {
    "lenName": 16,
    "lenType": 16,
    "lenVar": 40
   },
   "kernels_config": {
    "python": {
     "delete_cmd_postfix": "",
     "delete_cmd_prefix": "del ",
     "library": "var_list.py",
     "varRefreshCmd": "print(var_dic_list())"
    },
    "r": {
     "delete_cmd_postfix": ") ",
     "delete_cmd_prefix": "rm(",
     "library": "var_list.r",
     "varRefreshCmd": "cat(var_dic_list()) "
    }
   },
   "types_to_exclude": [
    "module",
    "function",
    "builtin_function_or_method",
    "instance",
    "_Feature"
   ],
   "window_display": false
  }
 },
 "nbformat": 4,
 "nbformat_minor": 4
}
